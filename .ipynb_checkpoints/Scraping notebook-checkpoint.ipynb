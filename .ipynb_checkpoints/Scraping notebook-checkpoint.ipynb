{
 "cells": [
  {
   "cell_type": "markdown",
   "metadata": {},
   "source": [
    "# Sentimental Analysis"
   ]
  },
  {
   "cell_type": "code",
   "execution_count": 1,
   "metadata": {},
   "outputs": [
    {
     "name": "stderr",
     "output_type": "stream",
     "text": [
      "/Users/Vinit/anaconda/lib/python2.7/site-packages/cryptography/hazmat/primitives/constant_time.py:26: CryptographyDeprecationWarning: Support for your Python version is deprecated. The next version of cryptography will remove support. Please upgrade to a 2.7.x release that supports hmac.compare_digest as soon as possible.\n",
      "  utils.DeprecatedIn23,\n"
     ]
    }
   ],
   "source": [
    "# from urllib.request import Request, urlopen\n",
    "import urllib\n",
    "from urllib2 import Request, urlopen, URLError\n",
    "from bs4 import BeautifulSoup\n",
    "import nltk.classify.util\n",
    "from nltk.classify import NaiveBayesClassifier\n",
    "from vaderSentiment.vaderSentiment import SentimentIntensityAnalyzer\n",
    "from nltk import tokenize\n",
    "from nltk import sent_tokenize\n",
    "import matplotlib.pyplot as plt;\n",
    "import numpy as np\n",
    "\n"
   ]
  },
  {
   "cell_type": "code",
   "execution_count": null,
   "metadata": {
    "collapsed": true
   },
   "outputs": [],
   "source": [
    "with open('pos.txt') as f:\n",
    "    content = f.readlines()\n",
    "# you may also want to remove whitespace characters like `\\n` at the end of each line\n",
    "positive_vocab = [x.strip() for x in content]"
   ]
  },
  {
   "cell_type": "code",
   "execution_count": 15,
   "metadata": {},
   "outputs": [
    {
     "name": "stdout",
     "output_type": "stream",
     "text": [
      "27\n",
      "27\n",
      "[({'a': True, 'e': True, 'm': True, 'o': True, 's': True, 'w': True}, 'pos'), ({'a': True, 'd': True, 'g': True, 'i': True, 'o': True, 'n': True, 's': True, 'u': True, 't': True}, 'pos'), ({'a': True, 'c': True, 'f': True, 'i': True, 'n': True, 's': True, 't': True}, 'pos'), ({'c': True, 'e': True, 'f': True, 'i': True, 'r': True, 't': True}, 'pos'), ({'o': True, 'g': True, 'd': True}, 'pos'), ({'i': True, 'c': True, 'e': True, 'n': True}, 'pos'), ({'a': True, 'r': True, 'e': True, 't': True, 'g': True}, 'pos'), ({')': True, ':': True}, 'pos'), ({'e': True, 'l': True, 'o': True, 'v': True}, 'pos'), ({'g': True, 'f': True, 'i': True, 'h': True, 'l': True, 'n': True, 's': True, 'u': True, 't': True}, 'pos'), ({'a': True, 'e': True, 'f': True, 'i': True, '-': True, 's': True, 'r': True, 't': True}, 'pos'), ({'a': True, 'c': True, 'g': True, 'i': True, 'h': True, 'm': True, 'n': True, 'r': True}, 'pos'), ({'a': True, 'c': True, 'i': True, 'm': True, 'l': True, 'o': True}, 'pos'), ({'a': True, 'c': True, 'i': True, 'h': True, 'm': True, 's': True, 'r': True, 't': True}, 'pos'), ({'a': True, 'b': True, 'e': True, 'j': True, 'l': True, 'o': True, 'n': True, 'y': True}, 'pos'), ({'a': True, 'i': True, 'o': True, 'p': True, 's': True, 'r': True, 'u': True}, 'pos'), ({'a': True, 'g': True, 'i': True, 'l': True, 'o': True, 'n': True, 'r': True}, 'pos'), ({'d': True, 'r': True, 'e': True, 't': True, 'n': True}, 'pos'), ({'a': True, 'b': True, 'g': True, 'i': True, 'o': True, 'n': True, 's': True, 'r': True}, 'pos'), ({'e': True, 'i': True, 'n': True, 's': True, 't': True, 'v': True}, 'pos'), ({'e': True, 'g': True, 'i': True, 'n': True, 'r': True, 't': True, 'v': True}, 'pos'), ({'g': True, 'i': True, 'n': True, 'r': True, 'u': True, 't': True}, 'pos'), ({'e': True, 'f': True, 'l': True, 'o': True, 'p': True, 'r': True, 'u': True, 'w': True}, 'pos'), ({'a': True, 'c': True, 'g': True, 'f': True, 'i': True, 'n': True, 's': True, 't': True}, 'pos'), ({' ': True, 'g': True, 'i': True, 'h': True, 'k': True, 'o': True, 'n': True, 'p': True, 'r': True, 'u': True, 't': True, 'v': True}, 'pos'), ({'a': True, 'e': True, 'g': True, 'i': True, 'm': True, 'n': True, 't': True, 'v': True}, 'pos'), ({'a': True, 'e': True, 'd': True, 'g': True, 'l': True, 'n': True, 'r': True, 'y': True}, 'pos')]\n"
     ]
    }
   ],
   "source": [
    "#training\n",
    "def word_feats(words):\n",
    "#    print \"Words are \",words\n",
    "    return dict([(word, True) for word in words])\n",
    "\n",
    "\n",
    "# positive_vocab = [ 'awesome', 'outstanding', 'fantastic', 'terrific', 'good', 'nice',\n",
    "#                   'great', ':)','love','insightful','first-rate',\n",
    "#                   'charming','comical','charismatic','enjoyable','uproarious','original'\n",
    "#                   ,'tender', 'absorbing','sensitive', 'riveting','intriguing',\n",
    "#                   'powerful','fascinating', 'thought provoking'\n",
    "#                   ,'imaginative','legendary']\n",
    "print(len(positive_vocab))\n",
    "    \n",
    "negative_vocab = [ 'bad', 'terrible','useless', 'hate', ':('\n",
    "                   ,'second-rate','violent','moronic','third-rate','flawed','juvenile'\n",
    "                   ,'boring','distasteful','ordinary','disgusting','senseless','static'\n",
    "                   ,'brutal','confused','disappointing','bloody','silly','tired'\n",
    "                   ,'predictable','stupid','uninteresting','weak']\n",
    "print(len(negative_vocab))\n",
    "    \n",
    "neutral_vocab = [ 'movie','the','sound','was','is','actors','did','know','words','not'\n",
    "                  ,'suspenseful','low-budget','dramatic','highly-charged','sentimental',\n",
    "                  'fantasy','slow','romantic','satirical','fast-moving','oddball','picaresque',\n",
    "                  'big-budget','wacky','an','a','ok','fine',]\n",
    "\n",
    "\n",
    "\n",
    "positive_features = [(word_feats(pos), 'pos') for pos in positive_vocab]\n",
    "print positive_features\n",
    "negative_features = [(word_feats(neg), 'neg') for neg in negative_vocab]\n",
    "neutral_features = [(word_feats(neu), 'neu') for neu in neutral_vocab]\n"
   ]
  },
  {
   "cell_type": "code",
   "execution_count": 16,
   "metadata": {},
   "outputs": [
    {
     "name": "stdout",
     "output_type": "stream",
     "text": [
      "performance + y_pos are =   [2, 1] [0 1]\n"
     ]
    },
    {
     "data": {
      "image/png": "[encoded data removed]",
      "text/plain": [
       "<matplotlib.figure.Figure at 0x113bcd210>"
      ]
     },
     "metadata": {},
     "output_type": "display_data"
    },
    {
     "data": {
      "image/png": "[encoded data removed]",
      "text/plain": [
       "<matplotlib.figure.Figure at 0x112554a10>"
      ]
     },
     "metadata": {},
     "output_type": "display_data"
    },
    {
     "name": "stdout",
     "output_type": "stream",
     "text": [
      "\n",
      "\n",
      " MOVIE IS WORTH WATCHING\n",
      "\n",
      "\n"
     ]
    }
   ],
   "source": [
    "\n",
    "\n",
    "train_set = negative_features + positive_features + neutral_features\n",
    "\n",
    "classifier = NaiveBayesClassifier.train(train_set) \n",
    "\n",
    "sentences=[]\n",
    "\n",
    "sentences = [\"fascinating\",\"awesome\", \"happy\"]\n",
    "count_pos=0\n",
    "count_neg=0\n",
    "final_val=0\n",
    "temp = []\n",
    "sid = SentimentIntensityAnalyzer()\n",
    "for sentence in sentences:\n",
    "    neg=0\n",
    "    pos=0\n",
    "    sentence = sentence.lower()\n",
    "    words = sentence.split(' ')\n",
    "    for word in words:\n",
    "        classResult = classifier.classify(word_feats(word))\n",
    "        if classResult == 'neg':\n",
    "            neg = neg + 1\n",
    "            classifier\n",
    "        if classResult == 'pos':\n",
    "            pos = pos + 1\n",
    "            \n",
    "    pos_review=str(float(pos)/len(words))\n",
    "    neg_review=str(float(neg)/len(words))\n",
    "    \n",
    "    if (float(pos_review)>float(neg_review)):\n",
    "        final_val+=1\n",
    "        count_pos+=1\n",
    "    else:\n",
    "        final_val-=1\n",
    "        count_neg+=1\n",
    "\n",
    "objects = ('Positive Reviews', 'Negative Reviews')\n",
    "y_pos = np.arange(len(objects))\n",
    "performance = [count_pos,count_neg]\n",
    "print \"performance + y_pos are =  \",performance, y_pos\n",
    "plt.subplot(1, 2, 1)\n",
    "plt.bar(y_pos, performance, align='center', alpha=0.5,width=0.3)\n",
    "plt.xticks(y_pos, objects)\n",
    "plt.ylabel('Usage')\n",
    "plt.title('Review Meter 1')\n",
    "plt.show()\n",
    "\n",
    "labels = 'Positive Reviews', 'Negative Reviews'\n",
    "sizes = [count_pos,count_neg]\n",
    "colors = ['gold', 'yellowgreen']\n",
    "explode = (0.1, 0)  # explode 1st slice\n",
    "\n",
    "fig = plt.figure(figsize=[5, 5])\n",
    "ax1 = fig.add_subplot(111)\n",
    "\n",
    "\n",
    "ax1.pie(sizes, explode=explode, labels=labels, colors=colors,\n",
    "        autopct='%1.1f%%', shadow=True, startangle=140)\n",
    "plt.axis('equal')\n",
    "plt.title('Review Meter 2')\n",
    "plt.show()\n",
    "\n",
    "\n",
    "if(final_val>0):\n",
    "    print(\"\\n\\n MOVIE IS WORTH WATCHING\\n\\n\")\n",
    "else:\n",
    "    print(\"\\n\\n MOVIE IS NOT WORTH WATCHING\\n\\n\")\n"
   ]
  },
  {
   "cell_type": "code",
   "execution_count": null,
   "metadata": {
    "collapsed": true
   },
   "outputs": [],
   "source": []
  }
 ],
 "metadata": {
  "kernelspec": {
   "display_name": "Python 2",
   "language": "python",
   "name": "python2"
  },
  "language_info": {
   "codemirror_mode": {
    "name": "ipython",
    "version": 2
   },
   "file_extension": ".py",
   "mimetype": "text/x-python",
   "name": "python",
   "nbconvert_exporter": "python",
   "pygments_lexer": "ipython2",
   "version": "2.7.6"
  }
 },
 "nbformat": 4,
 "nbformat_minor": 2
}

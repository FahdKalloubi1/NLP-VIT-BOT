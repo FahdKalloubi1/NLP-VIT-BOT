{
 "cells": [
  {
   "cell_type": "code",
   "execution_count": 8,
   "metadata": {},
   "outputs": [
    {
     "name": "stderr",
     "output_type": "stream",
     "text": [
      "/Users/Vinit/anaconda/lib/python2.7/site-packages/cryptography/hazmat/primitives/constant_time.py:26: CryptographyDeprecationWarning: Support for your Python version is deprecated. The next version of cryptography will remove support. Please upgrade to a 2.7.x release that supports hmac.compare_digest as soon as possible.\n",
      "  utils.DeprecatedIn23,\n"
     ]
    }
   ],
   "source": [
    "import bs4\n",
    "import requests\n",
    "import pandas as pd\n",
    "import timeit\n",
    "import re\n",
    "from vaderSentiment.vaderSentiment import SentimentIntensityAnalyzer\n",
    "import operator\n",
    "from vaderSentiment.vaderSentiment import SentimentIntensityAnalyzer\n",
    "import requests"
   ]
  },
  {
   "cell_type": "code",
   "execution_count": 18,
   "metadata": {},
   "outputs": [
    {
     "name": "stdout",
     "output_type": "stream",
     "text": [
      "https://www.bing.com/search?q=Can+I+Get+CSE+At+3000+Rank+In+VIT+quora\n"
     ]
    }
   ],
   "source": [
    "text = \"Can I Get CSE At 3000 Rank In VIT\"\n",
    "search = text.replace(\" \", \"+\")\n",
    "\n",
    "question_url = \"https://www.bing.com/search?q=\"+search+\"+quora\"\n",
    "\n",
    "print question_url"
   ]
  },
  {
   "cell_type": "code",
   "execution_count": 25,
   "metadata": {},
   "outputs": [
    {
     "name": "stdout",
     "output_type": "stream",
     "text": [
      "Link extracted from google is =  https://www.quora.com/Can-I-get-a-CSE-in-VIT-with-a-rank-of-3-000\n",
      "quora link is https://www.quora.com/Can-I-get-a-CSE-in-VIT-with-a-rank-of-3-000\n",
      "container is [<div class=\"ui_qtext_expanded\"><span class=\"ui_qtext_rendered_qtext\"><p class=\"ui_qtext_para u-ltr u-text-align--start\">Basic Eligibility criteria for VIT :</p><ol><li>PCM percentage should be 60 or above.</li><li>VITEE rank should below 1lakh.</li></ol><p class=\"ui_qtext_para u-ltr u-text-align--start\">As per your rank you are elligible to get into VIT. You have to go through the multi category Counselling process.</p><p class=\"ui_qtext_para u-ltr u-text-align--start\"><b>The concept of category A,B,C &amp; D applies here with category C-D being considered as management quota.</b></p><p class=\"ui_qtext_para u-ltr u-text-align--start\">If you want desire branch in VIT ,I can guide you.</p><p class=\"ui_qtext_para u-ltr u-text-align--start\">If you want more information regarding admission process and fee structure ,You can contact me at <b>8880233261</b>.</p></span></div>, <div class=\"ui_qtext_expanded\"><span class=\"ui_qtext_rendered_qtext\"><p class=\"ui_qtext_para u-ltr u-text-align--start\">Milega milega. Direct Vellore only. But I\\u2019d prefer Manipal, I\\u2019ve heard the coding culture is amazing there. Obviously, many CEO have come out of that college. Alumini is strong as diamond.</p></span></div>]\n",
      "('answers are', [u'Basic Eligibility criteria for VIT :PCM percentage should be 60 or above.VITEE rank should below 1lakh.As per your rank you are elligible to get into VIT. You have to go through the multi category Counselling process.The concept of category A,B,C & D applies here with category C-D being considered as management quota.If you want desire branch in VIT ,I can guide you.If you want more information regarding admission process and fee structure ,You can contact me at 8880233261.', u'Milega milega. Direct Vellore only. But Id prefer Manipal, Ive heard the coding culture is amazing there. Obviously, many CEO have come out of that college. Alumini is strong as diamond.'])\n",
      "[u'Basic Eligibility criteria for VIT :PCM percentage should be 60 or above.VITEE rank should below 1lakh.As per your rank you are elligible to get into VIT. You have to go through the multi category Counselling process.The concept of category A,B,C & D applies here with category C-D being considered as management quota.If you want desire branch in VIT ,I can guide you.If you want more information regarding admission process and fee structure ,You can contact me at 8880233261.', u'Milega milega. Direct Vellore only. But Id prefer Manipal, Ive heard the coding culture is amazing there. Obviously, many CEO have come out of that college. Alumini is strong as diamond.']\n"
     ]
    }
   ],
   "source": [
    "\n",
    "\n",
    "\n",
    "headers = {\n",
    "    \n",
    "        'user-agent': 'Mozilla/5.0 (Macintosh; Intel Mac OS X 10_13_4) AppleWebKit/537.36 (KHTML, like Gecko) Chrome/72.0.3626.121 Safari/537.36'\n",
    "        \n",
    "    }\n",
    "proxies = {\n",
    "    'https': 'http://195.209.131.19:52844'\n",
    "#     'https': 'http://50.232.162.77:80',\n",
    "#     'https': 'http://103.111.219.144:53281'\n",
    "    \n",
    "}\n",
    "\n",
    "\n",
    "answers = []\n",
    "def GoogleSearch(url):\n",
    "    link = []\n",
    "\n",
    "    page = requests.get(url, headers=headers)\n",
    "    response = page.text\n",
    "    soup = bs4.BeautifulSoup(response, 'lxml')\n",
    "    #print \"soup is\",soup\n",
    "    container = soup.find('li',{'class':'b_algo'})\n",
    "    #print \"container is\",container\n",
    "    \n",
    "    for i in container.findAll('a'):\n",
    "        link.append(i.get('href'))\n",
    "    print \"Link extracted from google is = \",link[0]\n",
    "    return link[0]\n",
    "# #     start = timeit.timeit()\n",
    "#     for l in container:\n",
    "#         link = l.get('href')\n",
    "#     quora_link = re.findall(r'q=[\\'\"]?([^\\& >]+)', link)\n",
    "#     quora_link = \"\".join(quora_link)\n",
    "#     text = container.getText()\n",
    "# #     end = timeit.timeit()\n",
    "# #     print \"time taken=\",end - start\n",
    "#     print \"text is\",text\n",
    "#     print \"link is \",quora_link\n",
    "#     return text,quora_link\n",
    "\n",
    "def QuoraSearch(url):\n",
    "    answers = []\n",
    "    page = requests.get(url)\n",
    "    response = page.text\n",
    "    soup = bs4.BeautifulSoup(response, 'lxml')\n",
    "#     print \"soup is\",soup\n",
    "    container = soup.findAll('div',{'class':'ui_qtext_expanded'})\n",
    "    print \"container is\",container\n",
    "    for p in container:\n",
    "#         i = text.encode(\"utf8\") for text in p.text\n",
    "        answers.append((p.text).encode('utf-8').decode('ascii', 'ignore'))\n",
    "    print (\"answers are\",answers)\n",
    "#     print answers[0]\n",
    "    return answers\n",
    "    \n",
    "quora_link = GoogleSearch(question_url)\n",
    "print \"quora link is\",quora_link\n",
    "\n",
    "quora_answer = QuoraSearch(quora_link)\n",
    "print quora_answer\n",
    "# "
   ]
  },
  {
   "cell_type": "code",
   "execution_count": 12,
   "metadata": {},
   "outputs": [
    {
     "name": "stdout",
     "output_type": "stream",
     "text": [
      "[u\"It's difficult to get cse or mechanical with 13000. You can get EEE or EI or CIVIL. When i appeared for the counselling, seats for cse and mechanical were full by 8000. All the best.#2ndyearguyTHIS WAS THE STATUS OF COUNSELLING UPTO 10000\", u'You might just miss it. In 2012, with a rank of 10,584, I was not even close to getting CSE at VIT Vellore Campus (although I did not intend to take CSE, a decision which after 5 years still puts me in a spot of bother).At that time there were 650 seats in Vellore Campus which now would have obviously increased, but the demand for CSE at VIT Vellore has increased a lot too.My advice is: Take CSE at VIT Chennai Campus. There is absolutely no difference in terms of quality of education, campus life, etc. The only hardship you will face is at the time of placement you will have to travel to Vellore which is 3\\u20134 hours away from Chennai, but the good news is the college provides a bus facility as well as accommodation facility at Vellore Campus for students from Chennai Campus visiting there. It will be tough going to and fro, but believe me, the kind of placement VIT provides for CSE students, it will be worth it. And don\\u2019t think about and disparity which the college might bring about in terms of which campus does a student belong to, because there is none.', u'Look in vit vellore it is not possible to get cse or mech branch but in vit chennai definetely you will get one of these .I should tell you one thing if you are going to vit then dont take admission in vellore campus. Chennai campus will become far better than vellore campus coming near future, in any aspects you think As study wise, campus wise, teaching wise, and i said in aspects you think.I am speaking with experience ', u\"Yes at this rank you could get CSE at Vellore under category 1 if you are really lucky and a lot of people don't come to counselling this year. But you could surely get it under category 2.\", u'theres a chance this year...they are increasing the student input.they are calling ranks upto 35,000 in the first round counselling ...keep your fingers crossed.', u'Unfortunately no. The closing rank for CSE is around 7000 so you will have to look for an alternative course or try in category 2 where you will definitely get CSE.']\n"
     ]
    }
   ],
   "source": [
    "answer1 =  quora_answer\n",
    "print answer1\n",
    "quora_answer = answer1"
   ]
  },
  {
   "cell_type": "code",
   "execution_count": 4,
   "metadata": {},
   "outputs": [
    {
     "name": "stdout",
     "output_type": "stream",
     "text": [
      "There isn't any specified cutoff for admissions since it's entirely based on the percentile basis. But if you score around 75%, there is a high chance of getting a rank under 10k\n"
     ]
    }
   ],
   "source": [
    "# sentences = [u'Call :-8939564662VIT University, established under Section 3 of the University Grants Commission (UGC) Act, 1956, was founded in 1984 as a self-financing Institution called the Vellore Engineering College.Eligibility Criteria in the Qualifying Examination:Candidates appearing for the VITEEE in 2017 should have secured an aggregate of 60%in Physics, Chemistry, Mathematics / Biology in the qualifying examination (+2/Intermediate).candidates should write the VITEEE exam and should score 1 lacs.Please contact8939564662', u\"Ok, I think it's time to make the picture clear\\u2026I have gone through all the posts by others who've answered this question. People still seem confused on the whole process. Please go through this answer *FULLY* before jumping to any conclusion s.Firstly to those who are asking for a cutoff , THERE IS NOTHING CALLED CUTOFF IN VIT. Rather than cutoff, it's the money that you wanna shell out\\u2026based on your rank\\u2026 Let's check out the fees here for different categories. All are only tuition fees\\u2026Category 1:- Rs 1.97 LPACategory 2:- Rs 3.07 LPACategory 3:- Rs 4.07 LPACategory 4:- Rs 4.43 LPACategory 5:- Rs 4.97 LPANote:- This is for the year 2018. Might increase in the future\\u2026.Next the seats are filled based on these categories starting from category 1 for different branches\\u2026Now based on current and previous trends, it hasbeen noticed that preferred courses are in this order.CSE> IT>ECE> ECM>EEE\\u2026and then biotech, mechanical, civil, in the end etc. etc.And the preference of colleges are Vellore> Chennai> Bhopal > APNow based on the ranks, let me give u a brief idea.If your rank is under 7k , then u will get ANY BRANCH IN ANY COLLEGE in the first category itself, so no need to worry at all :)If your rank is under 12k , then u might not get cse in Vellore, in the first category. But u will get the same in other town\\u2026.And so on it goes\\u2026Now for the 1st category let me give u the probable ranks under which you will get.( Only for Vellore)Cse:- 7kIT:- 12kECE:- 18kEEE:- 23k..Civil, mechanical, biotech around 50k \\u2026For Chennai.CSE:- 10kECE:- 25kEEE:-35kMechanical:- 60kAnd so on\\u2026For the remaining categories 2, 3 and 4 just add around 10k ranks and u'll get the required number. Example for the second category CSE 20k, ECE 35 k and so on\\u2026Now for those of you are ready for the fifth category, here's the thing.CSE:- 40kECE:- 50kNow this is largely based on the demand of students attending the counseling. The data given is for 2018. Will be more or less the same in the coming few years. Believe me even a rank of 1 lakh, u have a chance for an ECE in Chennai provided Ur ready to bear that hole in your pocket\\u2026.I have just joined VIT this year and this answer is absolutely correct. I suggest this to all those aspirants , trust me with these numbers, I have done a lot of research over these. For those of you who have seen the answers about those management quota seats, Hey that's the remaining Category 5 seats which are to be filled\\u2026.PS:- This is my first answer on quota\\u2026 Leave an upvote if u think it deserves one.. Am open to answering more questions on VIT or any other topic\\u2026*ALL THE BEST* :))\", u\"There isn't any specified cutoff for admissions since it's entirely based on the percentile basis. But if you score around 75%, there is a high chance of getting a rank under 10k\"]\n",
    "# print sentences[2]"
   ]
  },
  {
   "cell_type": "code",
   "execution_count": 13,
   "metadata": {},
   "outputs": [
    {
     "name": "stdout",
     "output_type": "stream",
     "text": [
      "6\n"
     ]
    }
   ],
   "source": [
    "print len(quora_answer)"
   ]
  },
  {
   "cell_type": "code",
   "execution_count": 14,
   "metadata": {},
   "outputs": [
    {
     "name": "stdout",
     "output_type": "stream",
     "text": [
      "Yes at this rank you could get CSE at Vellore under category 1 if you are really lucky and a lot of people don't come to counselling this year. But you could surely get it under category 2.\n"
     ]
    }
   ],
   "source": [
    "\n",
    "sid = SentimentIntensityAnalyzer()\n",
    "dic = {}\n",
    "for sentence in quora_answer:\n",
    "#     print \"snetence is \",sentence[0:100],snt\n",
    "    snt = sid.polarity_scores(sentence)\n",
    "    dic[sentence] = snt['pos']\n",
    "# for i,o in dic.iteritems():\n",
    "#     print \"\\n\",i[0:50], o\n",
    "# print\"\\n\\n dic is ===== \", dic\n",
    "posAnswer = max(dic.iteritems(), key=operator.itemgetter(1))[0]\n",
    "print posAnswer"
   ]
  },
  {
   "cell_type": "code",
   "execution_count": 17,
   "metadata": {},
   "outputs": [
    {
     "name": "stdout",
     "output_type": "stream",
     "text": [
      "Yes at this rank you could get CSE at Vellore under category 1 if you are really lucky and a lot of people don't come to counselling this year. But you could surely get it under category 2.\n",
      "\n",
      " finalSentence is ----------=----------- Yes at this rank you could get CSE at Vellore under category 1 if you are really lucky and a lot of people don't come to counselling this year. But you could surely get it under category 2.\n"
     ]
    }
   ],
   "source": [
    "if(len(posAnswer)>300):\n",
    "    split = posAnswer.split(\".\")\n",
    "    print split\n",
    "else:\n",
    "    print answerToReturn\n",
    "    \n",
    "answerToReturn = \".\".join(split[:5])\n",
    "#     temp = sentence[:300]\n",
    "\n",
    "print \"\\n finalSentence is ----------=-----------\",answerToReturn\n"
   ]
  },
  {
   "cell_type": "code",
   "execution_count": null,
   "metadata": {
    "collapsed": true
   },
   "outputs": [],
   "source": []
  }
 ],
 "metadata": {
  "kernelspec": {
   "display_name": "Python 2",
   "language": "python",
   "name": "python2"
  }
 },
 "nbformat": 4,
 "nbformat_minor": 2
}

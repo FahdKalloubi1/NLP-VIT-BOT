{
 "cells": [
  {
   "cell_type": "markdown",
   "metadata": {},
   "source": [
    "# Sentimental Analysis"
   ]
  },
  {
   "cell_type": "markdown",
   "metadata": {},
   "source": [
    "## Working"
   ]
  },
  {
   "cell_type": "code",
   "execution_count": 37,
   "metadata": {
    "collapsed": true
   },
   "outputs": [],
   "source": [
    "from vaderSentiment.vaderSentiment import SentimentIntensityAnalyzer"
   ]
  },
  {
   "cell_type": "code",
   "execution_count": 44,
   "metadata": {},
   "outputs": [
    {
     "name": "stdout",
     "output_type": "stream",
     "text": [
      "('Sentence is positive', {'neg': 0.04, 'neu': 0.819, 'pos': 0.141, 'compound': 0.7378})\n",
      "('Sentence is negative', {'neg': 0.127, 'neu': 0.75, 'pos': 0.123, 'compound': -0.1098})\n",
      "('Sentence is positive', {'neg': 0.0, 'neu': 0.664, 'pos': 0.336, 'compound': 0.9451})\n"
     ]
    }
   ],
   "source": [
    "\n",
    "sentences = [\"PLEASE set this thing in your mind that VIT, Vellore and Chennai, are colleges just for profit. They want to suck each and every penny out of you. Now, there are other private engineering colleges in India as good (or I should say as bad) as VIT. There are only 3 colleges in India which are private and really “non-for-profit” which are the 3 BITS namely Pilani,Goa,Hydrabad.\",\n",
    "            \"The problem with all those people who are answering here is the limited mindset that the easier it is to get a college, The shittier it is. The industry doesn't care about your JEE rank, wake up people. Besides, I'd like to point out, that many of my classmates are JEE Advanced qualified , Most of my classmates are JEE Mains qualified (With respectable ranks) , so to the guy who said “Most people don't know anything” , Dude, stop blabbering random assumptions, and get your facts straight.\",\n",
    "            \"VIT is definitely better than Manipal and LPU. However, there are some things that you should consider. First, the good points: 1. Good infrastructure 2. Very good messes 3. Decent student quality 4. The management wants to improve the college\"\n",
    "            ]\n",
    "\n",
    "sid = SentimentIntensityAnalyzer()\n",
    "\n",
    "for sentence in sentences:\n",
    "    snt = sid.polarity_scores(sentence)\n",
    "    \n",
    "#     print(\"{:-<40} {} \\n\".format(sentence, str(snt)))\n",
    "    if(snt['neg'] == snt['pos']):\n",
    "        print(\"Sentene is neutral\", snt)\n",
    "    elif(snt['neg'] > snt['pos']):\n",
    "        print(\"Sentence is negative\", snt)\n",
    "    else:\n",
    "        print(\"Sentence is positive\", snt)\n",
    "        "
   ]
  },
  {
   "cell_type": "markdown",
   "metadata": {},
   "source": [
    "# Waste"
   ]
  },
  {
   "cell_type": "code",
   "execution_count": 4,
   "metadata": {},
   "outputs": [
    {
     "name": "stdout",
     "output_type": "stream",
     "text": [
      "4781\n",
      "4781\n"
     ]
    }
   ],
   "source": [
    "with open('negative_words.txt') as f:\n",
    "    negative_vocab = f.readlines()\n",
    "# you may also want to remove whitespace characters like `\\n` at the end of each line\n",
    "negative_vocab = [x.strip() for x in negative_vocab]\n",
    "\n",
    "with open('negative_words.txt') as f:\n",
    "    positive_vocab = f.readlines()\n",
    "# you may also want to remove whitespace characters like `\\n` at the end of each line\n",
    "positive_vocab = [x.strip() for x in positive_vocab]\n",
    "\n",
    "print(len(negative_vocab))\n",
    "print(len(positive_vocab))"
   ]
  },
  {
   "cell_type": "code",
   "execution_count": 11,
   "metadata": {},
   "outputs": [
    {
     "name": "stdout",
     "output_type": "stream",
     "text": [
      "4781\n",
      "4781\n"
     ]
    }
   ],
   "source": [
    "#training\n",
    "# def word_feats(words):\n",
    "# #    print \"Words are \",words\n",
    "#     return dict([(word, True) for word in words])\n",
    "\n",
    "\n",
    "# positive_vocab = [ 'awesome', 'outstanding', 'fantastic', 'terrific', 'good', 'nice',\n",
    "#                   'great', ':)','love','insightful','first-rate',\n",
    "#                   'charming','comical','charismatic','enjoyable','uproarious','original'\n",
    "#                   ,'tender', 'absorbing','sensitive', 'riveting','intriguing',\n",
    "#                   'powerful','fascinating', 'thought provoking'\n",
    "#                   ,'imaginative','legendary']\n",
    "# print(len(positive_vocab))\n",
    "    \n",
    "# negative_vocab = [ 'bad', 'terrible','useless', 'hate', ':('\n",
    "#                    ,'second-rate','violent','moronic','third-rate','flawed','juvenile'\n",
    "#                    ,'boring','distasteful','ordinary','disgusting','senseless','static'\n",
    "#                    ,'brutal','confused','disappointing','bloody','silly','tired'\n",
    "#                    ,'predictable','stupid','uninteresting','weak']\n",
    "# print(len(negative_vocab))\n",
    "    \n",
    "# neutral_vocab = [ 'movie','the','sound','was','is','actors','did','know','words','not'\n",
    "#                   ,'suspenseful','low-budget','dramatic','highly-charged','sentimental',\n",
    "#                   'fantasy','slow','romantic','satirical','fast-moving','oddball','picaresque',\n",
    "#                   'big-budget','wacky','an','a','ok','fine',]\n",
    "\n",
    "\n",
    "\n",
    "# positive_features = [(word_feats(pos), 'pos') for pos in positive_vocab]\n",
    "# print len(positive_features)\n",
    "# negative_features = [(word_feats(neg), 'neg') for neg in negative_vocab]\n",
    "# print len(negative_features)\n"
   ]
  },
  {
   "cell_type": "code",
   "execution_count": null,
   "metadata": {
    "collapsed": true
   },
   "outputs": [],
   "source": []
  }
 ],
 "metadata": {
  "kernelspec": {
   "display_name": "Python 2",
   "language": "python",
   "name": "python2"
  },
  "language_info": {
   "codemirror_mode": {
    "name": "ipython",
    "version": 2
   },
   "file_extension": ".py",
   "mimetype": "text/x-python",
   "name": "python",
   "nbconvert_exporter": "python",
   "pygments_lexer": "ipython2",
   "version": "2.7.6"
  }
 },
 "nbformat": 4,
 "nbformat_minor": 2
}
